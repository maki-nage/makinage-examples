{
 "cells": [
  {
   "cell_type": "code",
   "execution_count": 11,
   "metadata": {},
   "outputs": [],
   "source": [
    "from collections import namedtuple\n",
    "import rxsci as rs\n",
    "import rxsci.container.csv as csv"
   ]
  },
  {
   "cell_type": "markdown",
   "metadata": {},
   "source": [
    "# Read from a csv file"
   ]
  },
  {
   "cell_type": "code",
   "execution_count": null,
   "metadata": {},
   "outputs": [],
   "source": [
    "dataset_path = './Iris.csv'\n",
    "\n",
    "iris_parser = csv.create_line_parser(\n",
    "    dtype=[\n",
    "        ('id', 'int'),\n",
    "        ('sepal_length_cm', 'float'),\n",
    "        ('sepal_width_cm', 'float'),\n",
    "        ('petal_length_cm', 'float'),\n",
    "        ('petal_width_cm', 'float'),\n",
    "        ('species', 'str'),\n",
    "    ]\n",
    ")\n",
    "\n",
    "iris_data = csv.load_from_file(dataset_path, iris_parser)\n",
    "\n",
    "iris_data.pipe(\n",
    "    # do some computation here\n",
    ").subscribe(on_next=print)"
   ]
  },
  {
   "cell_type": "markdown",
   "metadata": {},
   "source": [
    "# Write to a CSV file"
   ]
  },
  {
   "cell_type": "code",
   "execution_count": null,
   "metadata": {},
   "outputs": [],
   "source": [
    "IrisFeature = namedtuple('IrisFeature', ['id', 'species', 'sepal_ratio', 'petal_ratio'])\n",
    "\n",
    "iris_features = iris_data.pipe(\n",
    "    rs.ops.map(lambda i: IrisFeature(\n",
    "        id=i.id, species=i.species,\n",
    "        sepal_ratio=i.sepal_length_cm / i.sepal_width_cm,\n",
    "        petal_ratio=i.petal_length_cm / i.petal_width_cm\n",
    "    )),\n",
    ")\n",
    "\n",
    "iris_features.pipe(\n",
    "    csv.dump_to_file('iris_features.csv', encoding='utf-8'),\n",
    ").subscribe()"
   ]
  }
 ],
 "metadata": {
  "kernelspec": {
   "display_name": "Python 3",
   "language": "python",
   "name": "python3"
  },
  "language_info": {
   "codemirror_mode": {
    "name": "ipython",
    "version": 3
   },
   "file_extension": ".py",
   "mimetype": "text/x-python",
   "name": "python",
   "nbconvert_exporter": "python",
   "pygments_lexer": "ipython3",
   "version": "3.6.9"
  }
 },
 "nbformat": 4,
 "nbformat_minor": 4
}
