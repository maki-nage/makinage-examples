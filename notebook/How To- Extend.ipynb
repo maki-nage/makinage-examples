{
 "cells": [
  {
   "cell_type": "code",
   "execution_count": 2,
   "metadata": {},
   "outputs": [],
   "source": [
    "import rx\n",
    "import rxsci as rs"
   ]
  },
  {
   "cell_type": "markdown",
   "metadata": {},
   "source": [
    "# Create an operator by composition"
   ]
  },
  {
   "cell_type": "code",
   "execution_count": 14,
   "metadata": {},
   "outputs": [
    {
     "name": "stdout",
     "output_type": "stream",
     "text": [
      "Hello\n",
      "The quick brown fox\n",
      "Lorem ipsum\n"
     ]
    },
    {
     "data": {
      "text/plain": [
       "<rx.disposable.disposable.Disposable at 0x7fd8330d7400>"
      ]
     },
     "execution_count": 14,
     "metadata": {},
     "output_type": "execute_result"
    }
   ],
   "source": [
    "def cleanup_text():\n",
    "    return rx.pipe(\n",
    "        rs.ops.map(lambda i: i.replace(\"-\", \" \")),\n",
    "        rs.ops.filter(lambda i: 'bill' not in i),\n",
    "        rs.ops.map(lambda i: i.capitalize()),        \n",
    "    )\n",
    "\n",
    "data = [\n",
    "    'hello',\n",
    "    'the-quick-brown-fox',\n",
    "    'bill is fast',\n",
    "    'lorem ipsum'\n",
    "]\n",
    "\n",
    "rx.from_(data).pipe(\n",
    "    cleanup_text()\n",
    ").subscribe(on_next=print)"
   ]
  },
  {
   "cell_type": "markdown",
   "metadata": {},
   "source": [
    "# Create a stateful operator by composition"
   ]
  },
  {
   "cell_type": "code",
   "execution_count": 22,
   "metadata": {},
   "outputs": [],
   "source": [
    "def sum_split(threshold):\n",
    "    def _sum_split(acc, i):\n",
    "        if acc[0] + i > threshold:\n",
    "            return (i, acc[0])\n",
    "        return (acc[0]+i, None)\n",
    "        \n",
    "    return rx.pipe(\n",
    "        rs.ops.scan(_sum_split, seed=(0, None)),\n",
    "        rs.ops.filter(lambda i: i[1] is not None),\n",
    "        rs.ops.map(lambda i: i[1]),\n",
    "    )"
   ]
  },
  {
   "cell_type": "code",
   "execution_count": 23,
   "metadata": {},
   "outputs": [
    {
     "name": "stdout",
     "output_type": "stream",
     "text": [
      "3\n",
      "3\n",
      "5\n",
      "2\n",
      "6\n"
     ]
    },
    {
     "data": {
      "text/plain": [
       "<rx.disposable.disposable.Disposable at 0x7fd8330e7128>"
      ]
     },
     "execution_count": 23,
     "metadata": {},
     "output_type": "execute_result"
    }
   ],
   "source": [
    "data = [1, 2, 3, 4, 1, 2, 6, 1]\n",
    "\n",
    "rx.from_(data).pipe(\n",
    "    sum_split(5)\n",
    ").subscribe(print)"
   ]
  }
 ],
 "metadata": {
  "kernelspec": {
   "display_name": "Python 3",
   "language": "python",
   "name": "python3"
  },
  "language_info": {
   "codemirror_mode": {
    "name": "ipython",
    "version": 3
   },
   "file_extension": ".py",
   "mimetype": "text/x-python",
   "name": "python",
   "nbconvert_exporter": "python",
   "pygments_lexer": "ipython3",
   "version": "3.6.9"
  }
 },
 "nbformat": 4,
 "nbformat_minor": 4
}
